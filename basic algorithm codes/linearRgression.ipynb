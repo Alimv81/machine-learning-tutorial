{
 "cells": [
  {
   "cell_type": "code",
   "execution_count": 13,
   "metadata": {},
   "outputs": [],
   "source": [
    "import math\n",
    "import numpy as np"
   ]
  },
  {
   "cell_type": "code",
   "execution_count": 14,
   "metadata": {},
   "outputs": [],
   "source": [
    "class Point:\n",
    "    def __init__(self, x, y):\n",
    "        self.x = x\n",
    "        self.y = y\n",
    "        \n",
    "def yAxisCollision(slope: float, point: Point)->float:\n",
    "    return point.y - slope * point.x\n",
    "\n",
    "def toGradient(slope: float)->float:\n",
    "    return math.tan(slope * math.pi / 180)\n",
    "\n",
    "def getCollisionPoint(slope: float, vslope: float, y0: float)->Point:\n",
    "    x = y0 / (slope - vslope)\n",
    "    y = slope * x\n",
    "    return Point(x, y)\n",
    "\n",
    "def getMirroredPointDisToCenter(slope: float, point: Point)->float:\n",
    "    slope = toGradient(slope)\n",
    "    vslope = -1/slope\n",
    "    y0 = yAxisCollision(vslope, point)\n",
    "    vpoint = getCollisionPoint(slope, vslope, y0)\n",
    "    return math.sqrt(vpoint.x * vpoint.x + vpoint.y * vpoint.y)\n",
    "\n",
    "def fitLine(lst: list[Point])->float:\n",
    "    slope = 0.1\n",
    "    bestSlope = 0.0\n",
    "    bestDisSum = -math.inf\n",
    "    while slope < 90:\n",
    "        disSum = sum([getMirroredPointDisToCenter(slope, point) for point in lst])\n",
    "        if disSum > bestDisSum:\n",
    "            bestDisSum = disSum\n",
    "            bestSlope = slope\n",
    "        slope += 0.01\n",
    "    return bestSlope\n",
    "\n",
    "def optimize(lst: list[Point]):\n",
    "    mpoint = lst[0]\n",
    "    for point in lst[1:]:\n",
    "        if point.x <= mpoint.x and point.y <= mpoint.y:\n",
    "            mpoint = point\n",
    "    for i in range(len(lst)):\n",
    "        lst[i].x -= mpoint.x\n",
    "        lst[i].y -= mpoint.y\n"
   ]
  },
  {
   "cell_type": "code",
   "execution_count": 15,
   "metadata": {},
   "outputs": [
    {
     "name": "stdout",
     "output_type": "stream",
     "text": [
      "44.999999999999616\n"
     ]
    }
   ],
   "source": [
    " \n",
    "if __name__ == \"__main__\":\n",
    "    lst = [Point(i, i) for i in range(1, 11)]\n",
    "    optimize(lst)\n",
    "    gradient = fitLine(lst)\n",
    "    print(gradient)\n",
    "    "
   ]
  }
 ],
 "metadata": {
  "kernelspec": {
   "display_name": "Python 3",
   "language": "python",
   "name": "python3"
  },
  "language_info": {
   "codemirror_mode": {
    "name": "ipython",
    "version": 3
   },
   "file_extension": ".py",
   "mimetype": "text/x-python",
   "name": "python",
   "nbconvert_exporter": "python",
   "pygments_lexer": "ipython3",
   "version": "3.10.6"
  },
  "orig_nbformat": 4,
  "vscode": {
   "interpreter": {
    "hash": "916dbcbb3f70747c44a77c7bcd40155683ae19c65e1c03b4aa3499c5328201f1"
   }
  }
 },
 "nbformat": 4,
 "nbformat_minor": 2
}
