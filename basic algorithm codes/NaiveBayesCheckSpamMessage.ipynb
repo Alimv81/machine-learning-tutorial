{
 "cells": [
  {
   "attachments": {},
   "cell_type": "markdown",
   "metadata": {},
   "source": [
    "writing a program to check if the message is a normal message or spam\n",
    "considering its words"
   ]
  },
  {
   "cell_type": "markdown",
   "metadata": {},
   "source": [
    "importing essential libraries at the top of the code"
   ]
  },
  {
   "cell_type": "code",
   "execution_count": 1,
   "metadata": {},
   "outputs": [],
   "source": [
    "# import math\n",
    "# import numpy as np"
   ]
  },
  {
   "attachments": {},
   "cell_type": "markdown",
   "metadata": {},
   "source": [
    "defining constant values and messages lists"
   ]
  },
  {
   "cell_type": "code",
   "execution_count": 2,
   "metadata": {},
   "outputs": [],
   "source": [
    "#defining the normal and spam messages\n",
    "Normal_messages = [[\"hello\", \"world\", \"name\", \"money\"], [\"food\", \"price\", \"time\"]]\n",
    "Spam_messages = [[\"hello\", \"world\", \"name\", \"money\"], [\"food\", \"price\", \"time\"], [\"money\"]]\n",
    "number_of_all_messages = len(Normal_messages) + len(Spam_messages)"
   ]
  },
  {
   "cell_type": "code",
   "execution_count": 3,
   "metadata": {},
   "outputs": [],
   "source": [
    "#defining alpha and beta\n",
    "alpha = 0\n",
    "beta = 0"
   ]
  },
  {
   "attachments": {},
   "cell_type": "markdown",
   "metadata": {},
   "source": [
    "defining the functions that remain the same"
   ]
  },
  {
   "cell_type": "code",
   "execution_count": 4,
   "metadata": {},
   "outputs": [],
   "source": [
    "def probability_of_being_in_the_messagesList (messages: list)->float:\n",
    "    return len(messages) / number_of_all_messages\n",
    "\n",
    "def times_word_is_repeated_in_list_messages(searching_word: str, messages: list) -> int:\n",
    "    n_times_repeated = 0\n",
    "    for message in messages:\n",
    "        is_in_message = False\n",
    "        for word in message:\n",
    "            if word == searching_word:\n",
    "                is_in_message = True\n",
    "                break\n",
    "        if is_in_message:\n",
    "            n_times_repeated += 1\n",
    "            \n",
    "    return n_times_repeated + alpha\n",
    "\n",
    "def probability_of_word_being_in_a_list(word: str, messages: list) -> float:\n",
    "    n_times_repeated = times_word_is_repeated_in_list_messages(word, messages)\n",
    "    length_of_messages_list = len(messages)\n",
    "    return n_times_repeated / length_of_messages_list\n",
    "    \n",
    "def probability_of_message_being_spam_or_normal(message: list, messages: list)->float:\n",
    "    probability = 1\n",
    "    probability *= probability_of_being_in_the_messagesList(messages=messages)\n",
    "    for word in message:\n",
    "        probability *= probability_of_word_being_in_a_list(word, messages=messages)\n",
    "    return probability\n",
    "\n",
    "def is_normal(message: list)->bool:\n",
    "    chance_of_being_spam = probability_of_message_being_spam_or_normal(message=message, messages=Spam_messages)\n",
    "    chance_of_being_normal = probability_of_message_being_spam_or_normal(message=message, messages=Normal_messages)\n",
    "    \n",
    "    return chance_of_being_normal > chance_of_being_spam"
   ]
  },
  {
   "attachments": {},
   "cell_type": "markdown",
   "metadata": {},
   "source": [
    "the main part of code with the usage of the implementations"
   ]
  },
  {
   "cell_type": "code",
   "execution_count": 5,
   "metadata": {},
   "outputs": [
    {
     "name": "stdout",
     "output_type": "stream",
     "text": [
      "message is spam\n"
     ]
    }
   ],
   "source": [
    "if __name__ == \"__main__\":\n",
    "    message = \"money money price\".split()\n",
    "    if is_normal(message=message):\n",
    "        print(\"the message is normal\")\n",
    "    else:\n",
    "        print(\"message is spam\")"
   ]
  }
 ],
 "metadata": {
  "kernelspec": {
   "display_name": "base",
   "language": "python",
   "name": "python3"
  },
  "language_info": {
   "codemirror_mode": {
    "name": "ipython",
    "version": 3
   },
   "file_extension": ".py",
   "mimetype": "text/x-python",
   "name": "python",
   "nbconvert_exporter": "python",
   "pygments_lexer": "ipython3",
   "version": "3.9.7"
  },
  "orig_nbformat": 4,
  "vscode": {
   "interpreter": {
    "hash": "5179d32cf6ec497baf3f8a3ef987cc77c5d2dc691fdde20a56316522f61a7323"
   }
  }
 },
 "nbformat": 4,
 "nbformat_minor": 2
}
