{
 "cells": [
  {
   "cell_type": "code",
   "execution_count": 18,
   "metadata": {},
   "outputs": [],
   "source": [
    "import csv\n",
    "import math\n",
    "import numpy as np\n",
    "import matplotlib.pyplot as plt"
   ]
  },
  {
   "cell_type": "code",
   "execution_count": 19,
   "metadata": {},
   "outputs": [],
   "source": [
    "class Point:\n",
    "    def __init__(self, x, y):\n",
    "        self.x = x\n",
    "        self.y = y\n",
    "    def __str__(self) -> str:\n",
    "        return str(self.x) + ' ' + str(self.y)"
   ]
  },
  {
   "cell_type": "code",
   "execution_count": 20,
   "metadata": {},
   "outputs": [],
   "source": [
    "def yAxisCollision(slope: float, point: Point)->float:\n",
    "    return point.y - slope * point.x\n",
    "\n",
    "def toGradient(slope: float)->float:\n",
    "    return math.tan(slope * math.pi / 180)\n",
    "\n",
    "def getCollisionPoint(slope: float, vslope: float, y0: float)->Point:\n",
    "    x = y0 / (slope - vslope)\n",
    "    y = slope * x\n",
    "    return Point(x, y)\n",
    "\n",
    "def getMirroredPointDisToCenter(slope: float, point: Point)->float:\n",
    "    slope = toGradient(slope)\n",
    "    vslope = -1/slope\n",
    "    y0 = yAxisCollision(vslope, point)\n",
    "    vpoint = getCollisionPoint(slope, vslope, y0)\n",
    "    return math.sqrt(vpoint.x * vpoint.x + vpoint.y * vpoint.y)\n",
    "\n",
    "def fitLine(lst: list[Point])->float:\n",
    "    slope = 0.1\n",
    "    bestSlope = 0.0\n",
    "    bestDisSum = -math.inf\n",
    "    while slope <= 90:\n",
    "        disSum = sum([getMirroredPointDisToCenter(slope, point) for point in lst])\n",
    "        if disSum > bestDisSum:\n",
    "            bestDisSum = disSum\n",
    "            bestSlope = slope\n",
    "        slope += 0.01\n",
    "    return bestSlope\n",
    "\n",
    "def optimize(lst: list[Point]):\n",
    "    mx = math.inf\n",
    "    my = math.inf\n",
    "    for point in lst:\n",
    "        mx = min(mx, point.x)\n",
    "        my = min(my, point.y)\n",
    "    for i in range(len(lst)):\n",
    "        lst[i].x -= mx\n",
    "        lst[i].y -= my"
   ]
  },
  {
   "cell_type": "code",
   "execution_count": 39,
   "metadata": {},
   "outputs": [],
   "source": [
    "def loadData()->list[Point]:\n",
    "    points = list()\n",
    "    with open('lnrg.csv', 'r') as csvfile:\n",
    "        csvreader = csv.reader(csvfile)\n",
    "        for line in csvreader:\n",
    "            print(line, type(line))\n",
    "            points += [Point(float(line[0]), float(line[1]))]\n",
    "    return points\n",
    "\n",
    "def plot(gradient: float, lst: list[Point]):\n",
    "    xpoints = np.array([point.x for point in lst])\n",
    "    ypoints = np.array([point.y for point in lst])\n",
    "\n",
    "    print(ypoints)\n",
    "\n",
    "    x = np.linspace(-1, 60)\n",
    "    y = math.tan(gradient * math.pi / 180)*x\n",
    "    plt.plot(x, y, color='black')\n",
    "\n",
    "    plt.scatter(xpoints, ypoints)\n",
    "    plt.show()"
   ]
  },
  {
   "cell_type": "code",
   "execution_count": 40,
   "metadata": {},
   "outputs": [
    {
     "name": "stdout",
     "output_type": "stream",
     "text": [
      "['1', '3.888888889'] <class 'list'>\n",
      "['2', '4.555555556'] <class 'list'>\n",
      "['3', '5.222222222'] <class 'list'>\n",
      "['4', '5.888888889'] <class 'list'>\n",
      "['5', '6.555555556'] <class 'list'>\n",
      "['6', '7.222222222'] <class 'list'>\n",
      "['7', '7.888888889'] <class 'list'>\n",
      "['8', '8.555555556'] <class 'list'>\n",
      "['9', '9.222222222'] <class 'list'>\n",
      "['10', '9.888888889'] <class 'list'>\n",
      "['11', '10.55555556'] <class 'list'>\n",
      "['12', '11.22222222'] <class 'list'>\n",
      "['13', '11.88888889'] <class 'list'>\n",
      "['14', '12.55555556'] <class 'list'>\n",
      "['15', '13.22222222'] <class 'list'>\n",
      "['16', '13.88888889'] <class 'list'>\n",
      "['17', '14.55555556'] <class 'list'>\n",
      "['18', '15.22222222'] <class 'list'>\n",
      "['19', '15.88888889'] <class 'list'>\n",
      "['20', '16.55555556'] <class 'list'>\n",
      "['21', '17.22222222'] <class 'list'>\n",
      "['22', '17.88888889'] <class 'list'>\n",
      "['23', '18.55555556'] <class 'list'>\n",
      "['24', '19.22222222'] <class 'list'>\n",
      "['25', '19.88888889'] <class 'list'>\n",
      "['26', '20.55555556'] <class 'list'>\n",
      "['27', '21.22222222'] <class 'list'>\n",
      "['28', '21.88888889'] <class 'list'>\n",
      "['29', '22.55555556'] <class 'list'>\n",
      "['30', '23.22222222'] <class 'list'>\n",
      "['31', '23.88888889'] <class 'list'>\n",
      "['32', '24.55555556'] <class 'list'>\n",
      "['33', '25.22222222'] <class 'list'>\n",
      "['34', '25.88888889'] <class 'list'>\n",
      "['35', '26.55555556'] <class 'list'>\n",
      "['36', '27.22222222'] <class 'list'>\n",
      "['37', '27.88888889'] <class 'list'>\n",
      "['38', '28.55555556'] <class 'list'>\n",
      "['39', '29.22222222'] <class 'list'>\n",
      "['40', '29.88888889'] <class 'list'>\n",
      "['41', '30.55555556'] <class 'list'>\n",
      "['42', '31.22222222'] <class 'list'>\n",
      "['43', '31.88888889'] <class 'list'>\n",
      "['44', '32.55555556'] <class 'list'>\n",
      "['45', '33.22222222'] <class 'list'>\n",
      "['46', '33.88888889'] <class 'list'>\n",
      "['47', '34.55555556'] <class 'list'>\n",
      "['48', '35.22222222'] <class 'list'>\n",
      "['49', '35.88888889'] <class 'list'>\n",
      "['50', '36.55555556'] <class 'list'>\n",
      "['51', '37.22222222'] <class 'list'>\n",
      "['52', '37.88888889'] <class 'list'>\n",
      "['53', '38.55555556'] <class 'list'>\n",
      "['54', '39.22222222'] <class 'list'>\n",
      "['55', '39.88888889'] <class 'list'>\n",
      "['56', '40.55555556'] <class 'list'>\n",
      "['57', '41.22222222'] <class 'list'>\n",
      "['58', '41.88888889'] <class 'list'>\n",
      "['59', '42.55555556'] <class 'list'>\n",
      "['60', '43.22222222'] <class 'list'>\n",
      "degrees: 33.69000000000187\n",
      "[ 0.          0.66666667  1.33333333  2.          2.66666667  3.33333333\n",
      "  4.          4.66666667  5.33333333  6.          6.66666667  7.33333333\n",
      "  8.          8.66666667  9.33333333 10.         10.66666667 11.33333333\n",
      " 12.         12.66666667 13.33333333 14.         14.66666667 15.33333333\n",
      " 16.         16.66666667 17.33333333 18.         18.66666667 19.33333333\n",
      " 20.         20.66666667 21.33333333 22.         22.66666667 23.33333333\n",
      " 24.         24.66666667 25.33333333 26.         26.66666667 27.33333333\n",
      " 28.         28.66666667 29.33333333 30.         30.66666667 31.33333333\n",
      " 32.         32.66666667 33.33333333 34.         34.66666667 35.33333333\n",
      " 36.         36.66666667 37.33333333 38.         38.66666667 39.33333333]\n"
     ]
    },
    {
     "data": {
      "image/png": "[encoded data removed]",
      "text/plain": [
       "<Figure size 640x480 with 1 Axes>"
      ]
     },
     "metadata": {},
     "output_type": "display_data"
    }
   ],
   "source": [
    "if __name__ == \"__main__\":\n",
    "    points = loadData()\n",
    "    optimize(points)\n",
    "    gradient = fitLine(points)\n",
    "    print('degrees:', gradient)\n",
    "    plot(gradient, points)\n",
    "    "
   ]
  }
 ],
 "metadata": {
  "kernelspec": {
   "display_name": "Python 3",
   "language": "python",
   "name": "python3"
  },
  "language_info": {
   "codemirror_mode": {
    "name": "ipython",
    "version": 3
   },
   "file_extension": ".py",
   "mimetype": "text/x-python",
   "name": "python",
   "nbconvert_exporter": "python",
   "pygments_lexer": "ipython3",
   "version": "3.10.6"
  },
  "orig_nbformat": 4,
  "vscode": {
   "interpreter": {
    "hash": "916dbcbb3f70747c44a77c7bcd40155683ae19c65e1c03b4aa3499c5328201f1"
   }
  }
 },
 "nbformat": 4,
 "nbformat_minor": 2
}
