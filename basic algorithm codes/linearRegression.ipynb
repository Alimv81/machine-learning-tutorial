{
 "cells": [
  {
   "cell_type": "code",
   "execution_count": 83,
   "metadata": {},
   "outputs": [],
   "source": [
    "import math\n",
    "import numpy as np\n",
    "import matplotlib.pyplot as plt"
   ]
  },
  {
   "cell_type": "code",
   "execution_count": 84,
   "metadata": {},
   "outputs": [],
   "source": [
    "class Point:\n",
    "    def __init__(self, x, y):\n",
    "        self.x = x\n",
    "        self.y = y\n",
    "        \n",
    "def yAxisCollision(slope: float, point: Point)->float:\n",
    "    return point.y - slope * point.x\n",
    "\n",
    "def toGradient(slope: float)->float:\n",
    "    return math.tan(slope * math.pi / 180)\n",
    "\n",
    "def getCollisionPoint(slope: float, vslope: float, y0: float)->Point:\n",
    "    x = y0 / (slope - vslope)\n",
    "    y = slope * x\n",
    "    return Point(x, y)\n",
    "\n",
    "def getMirroredPointDisToCenter(slope: float, point: Point)->float:\n",
    "    slope = toGradient(slope)\n",
    "    vslope = -1/slope\n",
    "    y0 = yAxisCollision(vslope, point)\n",
    "    vpoint = getCollisionPoint(slope, vslope, y0)\n",
    "    return math.sqrt(vpoint.x * vpoint.x + vpoint.y * vpoint.y)\n",
    "\n",
    "def fitLine(lst: list[Point])->float:\n",
    "    slope = 0.1\n",
    "    bestSlope = 0.0\n",
    "    bestDisSum = -math.inf\n",
    "    while slope <= 90:\n",
    "        disSum = sum([getMirroredPointDisToCenter(slope, point) for point in lst])\n",
    "        if disSum > bestDisSum:\n",
    "            bestDisSum = disSum\n",
    "            bestSlope = slope\n",
    "        slope += 0.01\n",
    "    return bestSlope\n",
    "\n",
    "def optimize(lst: list[Point]):\n",
    "    mx = math.inf\n",
    "    my = math.inf\n",
    "    for point in lst:\n",
    "        mx = min(mx, point.x)\n",
    "        my = min(my, point.y)\n",
    "    for i in range(len(lst)):\n",
    "        lst[i].x -= mx\n",
    "        lst[i].y -= my\n",
    "\n",
    "def plot(gradient: float, lst: list[Point]):\n",
    "    xpoints = np.array([point.x for point in lst])\n",
    "    ypoints = np.array([point.y for point in lst])\n",
    "\n",
    "    x = np.linspace(-1, 11)\n",
    "    y = math.tan(gradient * math.pi / 180)*x\n",
    "    plt.plot(x, y, '-r')\n",
    "\n",
    "    plt.scatter(xpoints, ypoints)\n",
    "    plt.show()\n"
   ]
  },
  {
   "cell_type": "code",
   "execution_count": 87,
   "metadata": {},
   "outputs": [
    {
     "name": "stdout",
     "output_type": "stream",
     "text": [
      "degrees: 44.999999999999616\n"
     ]
    },
    {
     "data": {
      "image/png": "[encoded data removed]",
      "text/plain": [
       "<Figure size 640x480 with 1 Axes>"
      ]
     },
     "metadata": {},
     "output_type": "display_data"
    }
   ],
   "source": [
    " \n",
    "if __name__ == \"__main__\":\n",
    "    lst = [Point(i, i) for i in range(1, 11)]\n",
    "    optimize(lst)\n",
    "    gradient = fitLine(lst)\n",
    "    print('degrees:', gradient)\n",
    "    plot(gradient, lst)\n",
    "    "
   ]
  }
 ],
 "metadata": {
  "kernelspec": {
   "display_name": "Python 3",
   "language": "python",
   "name": "python3"
  },
  "language_info": {
   "codemirror_mode": {
    "name": "ipython",
    "version": 3
   },
   "file_extension": ".py",
   "mimetype": "text/x-python",
   "name": "python",
   "nbconvert_exporter": "python",
   "pygments_lexer": "ipython3",
   "version": "3.10.6"
  },
  "orig_nbformat": 4,
  "vscode": {
   "interpreter": {
    "hash": "916dbcbb3f70747c44a77c7bcd40155683ae19c65e1c03b4aa3499c5328201f1"
   }
  }
 },
 "nbformat": 4,
 "nbformat_minor": 2
}
