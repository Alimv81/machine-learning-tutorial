{
 "cells": [
  {
   "cell_type": "code",
   "execution_count": 45,
   "metadata": {},
   "outputs": [],
   "source": [
    "import numpy as np\n",
    "import pandas as pd\n",
    "import matplotlib.pyplot as plt"
   ]
  },
  {
   "cell_type": "code",
   "execution_count": 46,
   "metadata": {},
   "outputs": [],
   "source": [
    "class NeuralNetwork:\n",
    "    def __init__(self, layers):\n",
    "        self.layers = layers\n",
    "        self.num_layers = len(layers)\n",
    "        self.weights = [np.random.randn(y, x) for x, y in zip(layers[:-1], layers[1:])]\n",
    "        self.biases = [np.random.randn(y, 1) for y in layers[1:]]\n",
    "\n",
    "    def forward_propagation(self, a):\n",
    "        for w, b in zip(self.weights, self.biases):\n",
    "            a = self.activation(np.dot(w, a) + b)\n",
    "        return a\n",
    "\n",
    "    def train(self, X, y, epochs, learning_rate):\n",
    "        for epoch in range(epochs):\n",
    "            self.update_weights_biases(X, y, learning_rate)\n",
    "\n",
    "    def update_weights_biases(self, X, y, learning_rate):\n",
    "        nabla_w = [np.zeros(w.shape) for w in self.weights]\n",
    "        nabla_b = [np.zeros(b.shape) for b in self.biases]\n",
    "\n",
    "        for x, target in zip(X, y):\n",
    "            delta_nabla_w, delta_nabla_b = self.backpropagation(x, target)\n",
    "            nabla_w = [nw + dnw for nw, dnw in zip(nabla_w, delta_nabla_w)]\n",
    "            nabla_b = [nb + dnb for nb, dnb in zip(nabla_b, delta_nabla_b)]\n",
    "\n",
    "        self.weights = [w - (learning_rate / len(X)) * nw for w, nw in zip(self.weights, nabla_w)]\n",
    "        self.biases = [b - (learning_rate / len(X)) * nb for b, nb in zip(self.biases, nabla_b)]\n",
    "\n",
    "    def backpropagation(self, x, target):\n",
    "        nabla_w = [np.zeros(w.shape) for w in self.weights]\n",
    "        nabla_b = [np.zeros(b.shape) for b in self.biases]\n",
    "        activation = x\n",
    "        activations = [x]\n",
    "        zs = []\n",
    "\n",
    "        for w, b in zip(self.weights, self.biases):\n",
    "            z = np.dot(w, activation) + b\n",
    "            zs.append(z)\n",
    "            activation = self.activation(z)\n",
    "            activations.append(activation)\n",
    "\n",
    "        delta = self.cost_derivative(activations[-1], target) * self.activation_derivative(zs[-1])\n",
    "        nabla_b[-1] = delta\n",
    "        nabla_w[-1] = np.dot(delta, activations[-2].transpose())\n",
    "\n",
    "        for l in range(2, self.num_layers):\n",
    "            z = zs[-l]\n",
    "            sp = self.activation_derivative(z)\n",
    "            delta = np.dot(self.weights[-l + 1].transpose(), delta) * sp\n",
    "            nabla_b[-l] = delta\n",
    "            nabla_w[-l] = np.dot(delta, activations[-l - 1].transpose())\n",
    "\n",
    "        return nabla_w, nabla_b\n",
    "\n",
    "    def activation(self, z):\n",
    "        return 1.0 / (1.0 + np.exp(-z))\n",
    "\n",
    "    def activation_derivative(self, z):\n",
    "        return self.activation(z) * (1 - self.activation(z))\n",
    "\n",
    "    def cost_derivative(self, output_activation, target):\n",
    "        return output_activation - target"
   ]
  },
  {
   "cell_type": "code",
   "execution_count": 48,
   "metadata": {},
   "outputs": [
    {
     "name": "stdout",
     "output_type": "stream",
     "text": [
      "Input: [0 0] Target: [0] Output: [[0.08692921 0.16123309]]\n",
      "Input: [0 1] Target: [1] Output: [[0.88862752 0.79005974]]\n",
      "Input: [1 0] Target: [1] Output: [[0.86074064 0.81294961]]\n",
      "Input: [1 1] Target: [0] Output: [[0.15311607 0.17361114]]\n"
     ]
    }
   ],
   "source": [
    "# Create a dataset for XOR gate\n",
    "X = np.array([[0, 0], [0, 1], [1, 0], [1, 1]])\n",
    "y = np.array([[0], [1], [1], [0]])\n",
    "\n",
    "# Create a neural network with 2 input neurons, 2 hidden neurons, and 1 output neuron\n",
    "network = NeuralNetwork([2, 2, 1])\n",
    "\n",
    "# Train the network\n",
    "network.train(X, y, epochs=10000, learning_rate=0.1)\n",
    "\n",
    "# Test the network\n",
    "for i in range(len(X)):\n",
    "    input_data = X[i]\n",
    "    target = y[i]\n",
    "    output = network.forward_propagation(input_data)\n",
    "    print(\"Input:\", input_data, \"Target:\", target, \"Output:\", output)\n"
   ]
  }
 ],
 "metadata": {
  "kernelspec": {
   "display_name": "Python 3",
   "language": "python",
   "name": "python3"
  },
  "language_info": {
   "codemirror_mode": {
    "name": "ipython",
    "version": 3
   },
   "file_extension": ".py",
   "mimetype": "text/x-python",
   "name": "python",
   "nbconvert_exporter": "python",
   "pygments_lexer": "ipython3",
   "version": "3.10.6"
  },
  "orig_nbformat": 4
 },
 "nbformat": 4,
 "nbformat_minor": 2
}
